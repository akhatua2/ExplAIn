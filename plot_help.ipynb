{
 "cells": [
  {
   "cell_type": "code",
   "execution_count": 1,
   "metadata": {},
   "outputs": [
    {
     "name": "stderr",
     "output_type": "stream",
     "text": [
      "/matx/u/rahulsc/ExplAIn/.venv/lib/python3.12/site-packages/tqdm/auto.py:21: TqdmWarning: IProgress not found. Please update jupyter and ipywidgets. See https://ipywidgets.readthedocs.io/en/stable/user_install.html\n",
      "  from .autonotebook import tqdm as notebook_tqdm\n"
     ]
    }
   ],
   "source": [
    "import json\n",
    "import torch\n",
    "from transformers import AutoModelForCausalLM\n",
    "from transformers import AutoModelForCausalLM, AutoTokenizer\n",
    "import torch.nn.functional as F\n",
    "import numpy as np\n",
    "\n",
    "import matplotlib.pyplot as plt\n",
    "import numpy as np\n",
    "\n"
   ]
  },
  {
   "cell_type": "code",
   "execution_count": 2,
   "metadata": {},
   "outputs": [],
   "source": [
    "from circuitsvis.tokens import colored_tokens"
   ]
  },
  {
   "cell_type": "code",
   "execution_count": 3,
   "metadata": {},
   "outputs": [],
   "source": [
    "\n",
    "def save_attention_heatmap(attention_matrix, filename=\"attention_map.png\"):\n",
    "    plt.figure(figsize=(10, 8))\n",
    "    plt.imshow(attention_matrix, cmap='Blues', interpolation='nearest')\n",
    "    plt.colorbar()\n",
    "    plt.xlabel('Key Position')\n",
    "    plt.ylabel('Query Position')\n",
    "    plt.title('Self-Attention Map')\n",
    "    "
   ]
  },
  {
   "cell_type": "code",
   "execution_count": 4,
   "metadata": {},
   "outputs": [],
   "source": [
    "def save_attention_heatmap(attention_matrix, filename=\"attention_map.png\"):\n",
    "    plt.figure(figsize=(10, 8))\n",
    "    vmax = np.max(np.abs(attention_matrix))\n",
    "    plt.imshow(attention_matrix, cmap='RdBu_r', interpolation='nearest', vmin=-vmax, vmax=vmax)\n",
    "    plt.colorbar()\n",
    "    plt.xlabel('Key Position')\n",
    "    plt.ylabel('Query Position')\n",
    "    plt.title('Self-Attention Map')\n",
    "    plt.savefig(filename, dpi=300, bbox_inches='tight')\n",
    "    # plt.close()"
   ]
  },
  {
   "cell_type": "code",
   "execution_count": 5,
   "metadata": {},
   "outputs": [],
   "source": [
    "def token_id_to_char(token_id, tokenizer):\n",
    "    return tokenizer.decode(token_id)"
   ]
  },
  {
   "cell_type": "code",
   "execution_count": null,
   "metadata": {},
   "outputs": [],
   "source": [
    "llama_test_map_kl_82.npy.npz\n",
    "llama_test_map_nokl_82.npy.npz\n",
    "llama_test_map_pre_82.npy.npz\n",
    "llama_test_map_sft_82.npy.npz\n",
    "\n",
    "qwen_test_map_kl_82.npy.npz\n",
    "qwen_test_map_nokl_82.npy.npz\n",
    "qwen_test_map_pre_82.npy.npz\n",
    "qwen_test_map_sft_82.npy.npz"
   ]
  },
  {
   "cell_type": "code",
   "execution_count": null,
   "metadata": {},
   "outputs": [],
   "source": [
    "#8 charts\n",
    "\n",
    "Qwen\n",
    "\n",
    "RL+KL - Pre\n",
    "RL+noKL - Pre\n",
    "RL - SFT\n",
    "SFT - PRe"
   ]
  },
  {
   "cell_type": "code",
   "execution_count": 57,
   "metadata": {},
   "outputs": [],
   "source": [
    "# rl = np.load(\"qwen_test_map_nokl_82.npy.npz\")['arr']\n",
    "# sft = np.load(\"qwen_test_map_sft_82.npy.npz\")['arr']\n",
    "# pre = np.load(\"qwen_test_map_pre_82.npy.npz\")['arr']\n",
    "\n",
    "rl_kl = np.load(\"qwen_test_map_kl_82.npy.npz\")['arr']\n",
    "rl_nokl = np.load(\"qwen_test_map_nokl_82.npy.npz\")['arr']\n",
    "sft = np.load(\"qwen_test_map_sft_82.npy.npz\")['arr']\n",
    "pre = np.load(\"qwen_test_map_pre_82.npy.npz\")['arr']\n",
    "\n",
    "# save_attention_heatmap(rl - pre, 'attn_plots/llama_rl_kl_minus_pre.png')\n",
    "# save_attention_heatmap(sft - pre, 'attn_plots/llama_sft_minus_pre.png')\n",
    "\n",
    "# save_attention_heatmap(rl - sft, 'attn_plots/rl_minus_sft_attnmap.pdf')"
   ]
  },
  {
   "cell_type": "code",
   "execution_count": 10,
   "metadata": {},
   "outputs": [],
   "source": [
    "def save_html(arr, words, filename):\n",
    "\n",
    "    vis_html_object = colored_tokens(words, arr.tolist())\n",
    "\n",
    "    html_output = str(vis_html_object)\n",
    "\n",
    "    with open(filename, \"w\") as f:\n",
    "        f.write(html_output)\n",
    "\n",
    "    "
   ]
  },
  {
   "cell_type": "code",
   "execution_count": 17,
   "metadata": {},
   "outputs": [],
   "source": []
  },
  {
   "cell_type": "code",
   "execution_count": null,
   "metadata": {},
   "outputs": [],
   "source": []
  },
  {
   "cell_type": "code",
   "execution_count": 86,
   "metadata": {},
   "outputs": [],
   "source": [
    "most_attended_diff_arr = np.sum(rl-pre, axis = 0)\n",
    "most_attended_diff = np.argsort(most_attended_diff_arr)[::-1]"
   ]
  },
  {
   "cell_type": "code",
   "execution_count": 87,
   "metadata": {},
   "outputs": [],
   "source": [
    "most_attended_diff_sft_arr = np.sum(sft-pre, axis = 0)\n",
    "most_attended_diff_sft = np.argsort(most_attended_diff_sft_arr)[::-1]"
   ]
  },
  {
   "cell_type": "code",
   "execution_count": 12,
   "metadata": {},
   "outputs": [],
   "source": [
    "model_name = \"Qwen/Qwen3-1.7B\"\n",
    "tokenizer = AutoTokenizer.from_pretrained(model_name, trust_remote_code=True)\n",
    "grpo = json.load(open(\"per_sample/qwen_rl.json\"))"
   ]
  },
  {
   "cell_type": "code",
   "execution_count": 59,
   "metadata": {},
   "outputs": [
    {
     "name": "stdout",
     "output_type": "stream",
     "text": [
      "Please solve this math problem step by step. Show your reasoning and always put the final number answer in \\boxed{} format. Only put a single number answer in the box.\n",
      "\n",
      "Problem: Grace weighs 125 pounds. Alex weighs 2 pounds less than 4 times what Grace weighs. What are their combined weights in pounds?\n"
     ]
    }
   ],
   "source": [
    "i = 82\n",
    "prompt_text = grpo[i]['prompt']\n",
    "print(prompt_text)\n",
    "input_ids = tokenizer(prompt_text)['input_ids']\n",
    "words_in_list = [token_id_to_char(i, tokenizer) for i in input_ids]"
   ]
  },
  {
   "cell_type": "code",
   "execution_count": 22,
   "metadata": {},
   "outputs": [
    {
     "data": {
      "text/plain": [
       "array([ 0.0000e+00,  6.1035e-05, -1.8311e-04, -1.9836e-04, -6.1035e-04,\n",
       "        2.8992e-04, -3.5095e-04,  9.1553e-05, -2.9755e-04, -1.8311e-04,\n",
       "       -6.1035e-05, -4.5776e-05, -4.7302e-04,  1.6785e-04,  0.0000e+00,\n",
       "       -1.6022e-04,  2.2888e-04,  7.6294e-05,  1.5259e-05,  4.7302e-04,\n",
       "        1.6785e-04,  1.6785e-04, -2.2888e-04, -1.9836e-04,  1.7548e-04,\n",
       "       -1.9836e-04, -3.0518e-05, -1.4496e-04,  1.8311e-04, -4.5776e-05,\n",
       "        1.5259e-05,  4.3488e-04,  2.1362e-04,  1.8311e-04, -4.1962e-05,\n",
       "        5.1880e-04, -4.5776e-05, -7.6294e-05,  6.8665e-05, -6.1035e-05,\n",
       "        0.0000e+00, -6.1035e-05,  6.8665e-05, -6.1035e-05,  9.9182e-05,\n",
       "       -4.5776e-05,  7.6294e-06,  3.8147e-05,  6.8665e-05, -1.1444e-04,\n",
       "        1.3733e-04,  0.0000e+00, -6.8665e-05, -3.0518e-05, -9.9182e-05,\n",
       "        4.5776e-05, -2.2888e-05, -6.1035e-05,  4.5776e-05, -7.6294e-05,\n",
       "       -4.5776e-05, -6.1035e-05, -7.6294e-05,  1.2207e-04,  0.0000e+00,\n",
       "        3.0518e-05], dtype=float16)"
      ]
     },
     "execution_count": 22,
     "metadata": {},
     "output_type": "execute_result"
    }
   ],
   "source": [
    "normalize(rl) - normalize(pre)"
   ]
  },
  {
   "cell_type": "code",
   "execution_count": 34,
   "metadata": {},
   "outputs": [],
   "source": [
    "def new_scores(arr):\n",
    "\n",
    "    arr_score = np.sum(arr, axis = 0)\n",
    "\n",
    "    sorted_indices = np.argsort(arr_score)\n",
    "\n",
    "    new_score = np.zeros(len(arr_score))\n",
    "\n",
    "    for index, s in enumerate(sorted_indices):\n",
    "        new_score[s] = (len(arr_score) - index) / len(arr_score)\n",
    "        new_score[s] = new_score[s]*100.0\n",
    "\n",
    "    return new_score\n"
   ]
  },
  {
   "cell_type": "code",
   "execution_count": 43,
   "metadata": {},
   "outputs": [],
   "source": [
    "def normalize_main(arr):\n",
    "    rl_remove_first = np.copy(arr)\n",
    "    rl_remove_first = np.sum(rl_remove_first, axis = 0)\n",
    "    rl_remove_first[0] = 0\n",
    "    rl_sum = np.sum(rl_remove_first)\n",
    "    rl_remove_first = rl_remove_first/rl_sum\n",
    "    mean = np.mean(rl_remove_first)\n",
    "    rl_remove_first = rl_remove_first - mean\n",
    "    return rl_remove_first"
   ]
  },
  {
   "cell_type": "code",
   "execution_count": 38,
   "metadata": {},
   "outputs": [],
   "source": [
    "def normalize_v2(arr):\n",
    "\n",
    "    arr_sum = np.sum(arr, axis = 0)\n",
    "    return arr_sum"
   ]
  },
  {
   "cell_type": "code",
   "execution_count": 60,
   "metadata": {},
   "outputs": [],
   "source": [
    "diff_arr_rl_kl_pre = normalize_main(rl_kl) - normalize_main(pre)\n",
    "diff_arr_rl_kl_sft = normalize_main(rl_kl) - normalize_main(sft)\n",
    "\n",
    "diff_arr_rl_nokl_pre = normalize_main(rl_nokl) - normalize_main(pre)\n",
    "diff_arr_rl_nokl_sft = normalize_main(rl_nokl) - normalize_main(sft)\n",
    "\n",
    "diff_arr_sft_pre = normalize_main(sft) - normalize_main(pre)\n",
    "# diff_arr_rl_pre = new_scores_(rl) - new_scores(pre) \n",
    "\n",
    "save_html(diff_arr_rl_kl_pre, words_in_list, \"qwen_rl_kl_minus_pre_82.html\")\n",
    "save_html(diff_arr_rl_nokl_pre, words_in_list, \"qwen_rl_nokl_minus_pre_82.html\")\n",
    "save_html(diff_arr_sft_pre, words_in_list, \"qwen_sft_minus_pre_82.html\")\n",
    "save_html(diff_arr_rl_kl_sft, words_in_list, \"qwen_rl_kl_minus_sft_82.html\")\n",
    "save_html(diff_arr_rl_nokl_sft, words_in_list, \"qwen_rl_nokl_minus_sft_82.html\")\n"
   ]
  },
  {
   "cell_type": "code",
   "execution_count": null,
   "metadata": {},
   "outputs": [],
   "source": []
  },
  {
   "cell_type": "code",
   "execution_count": 16,
   "metadata": {},
   "outputs": [],
   "source": [
    "save_html(diff_arr_rl_pre, words_in_list, \"rl_minus_pre.html\")\n",
    "save_html(diff_arr_sft_pre, words_in_list, \"sft_minus_pre.html\")\n",
    "save_html(diff_arr_rl_sft, words_in_list, \"rl_minus_sft.html\")\n"
   ]
  },
  {
   "cell_type": "code",
   "execution_count": 88,
   "metadata": {},
   "outputs": [],
   "source": [
    "save_html(most_attended_diff_arr, words_in_list, \"rl_minus_pre.html\")"
   ]
  },
  {
   "cell_type": "code",
   "execution_count": 90,
   "metadata": {},
   "outputs": [],
   "source": [
    "save_html(most_attended_diff_sft_arr, words_in_list, \"sft_minus_pre.html\")"
   ]
  },
  {
   "cell_type": "code",
   "execution_count": 91,
   "metadata": {},
   "outputs": [],
   "source": [
    "save_html(most_attended_diff_arr - most_attended_diff_sft_arr, words_in_list, \"rl_minus_sft.html\")"
   ]
  },
  {
   "cell_type": "code",
   "execution_count": 85,
   "metadata": {},
   "outputs": [],
   "source": [
    "rl_remove_first = np.copy(sft)\n",
    "\n",
    "rl_remove_first = np.sum(rl_remove_first, axis = 0)\n",
    "\n",
    "rl_remove_first[0] = 0\n",
    "rl_sum = np.sum(rl_remove_first)\n",
    "rl_remove_first = rl_remove_first/rl_sum\n",
    "mean = np.mean(rl_remove_first)\n",
    "rl_remove_first = rl_remove_first - mean\n",
    "save_html(rl_remove_first, words_in_list, \"sft_itself_v2.html\")"
   ]
  },
  {
   "cell_type": "code",
   "execution_count": 62,
   "metadata": {},
   "outputs": [],
   "source": [
    "save_html(most_attended_diff_arr, words_in_list, \"most_attended_diff_rl.html\")"
   ]
  },
  {
   "cell_type": "code",
   "execution_count": 64,
   "metadata": {},
   "outputs": [],
   "source": [
    "save_html(most_attended_diff_sft_arr, words_in_list, \"most_attended_diff_sft.html\")"
   ]
  },
  {
   "cell_type": "code",
   "execution_count": 50,
   "metadata": {},
   "outputs": [
    {
     "name": "stdout",
     "output_type": "stream",
     "text": [
      "0 Please\n",
      "2  this\n",
      "21 boxed\n",
      "8 .\n",
      "24 .\n",
      "44 .\n",
      "25  Only\n",
      "34 .\n",
      "\n",
      "\n",
      "4  problem\n",
      "27  a\n",
      "15  the\n",
      "32  the\n",
      "58 .\n",
      "12  and\n",
      "19  in\n",
      "33  box\n",
      "31  in\n",
      "61  their\n",
      "55  what\n",
      "42 5\n",
      "39  \n",
      "16  final\n",
      "53 4\n",
      "65  pounds\n",
      "64  in\n",
      "13  always\n",
      "48 2\n",
      "52  \n",
      "66 ?\n",
      "47  \n",
      "41 2\n",
      "40 1\n",
      "49  pounds\n",
      "62  combined\n",
      "43  pounds\n",
      "45  Alex\n",
      "10  your\n",
      "50  less\n",
      "9  Show\n",
      "56  Grace\n",
      "59  What\n",
      "63  weights\n",
      "28  single\n",
      "60  are\n",
      "37  Grace\n",
      "35 Problem\n",
      "5  step\n",
      "57  weighs\n",
      "51  than\n",
      "29  number\n",
      "54  times\n",
      "23  format\n",
      "30  answer\n",
      "17  number\n",
      "18  answer\n",
      "36 :\n",
      "38  weighs\n",
      "11  reasoning\n",
      "46  weighs\n",
      "26  put\n",
      "7  step\n",
      "14  put\n",
      "20  \\\n",
      "22 {}\n",
      "6  by\n",
      "3  math\n",
      "1  solve\n"
     ]
    }
   ],
   "source": [
    "print_most_attended(most_attended_diff, tokenizer, input_ids)"
   ]
  },
  {
   "cell_type": "code",
   "execution_count": 45,
   "metadata": {},
   "outputs": [],
   "source": [
    "def print_most_attended(argsorted_arr, tokenizer, input_ids):\n",
    "    for i in argsorted_arr:\n",
    "        print(i, token_id_to_char(input_ids[i], tokenizer))\n"
   ]
  },
  {
   "cell_type": "code",
   "execution_count": 44,
   "metadata": {},
   "outputs": [],
   "source": [
    "most_attended_rl = np.sum(rl, axis = 0)\n",
    "most_attended_rl = np.argsort(most_attended_rl)[::-1]\n",
    "\n",
    "most_attended_sft = np.sum(sft, axis = 0)\n",
    "most_attended_sft = np.argsort(most_attended_sft)[::-1]\n",
    "\n",
    "most_attended_pre = np.sum(pre, axis = 0)\n",
    "most_attended_pre = np.argsort(most_attended_pre)[::-1]\n"
   ]
  },
  {
   "cell_type": "code",
   "execution_count": 48,
   "metadata": {},
   "outputs": [
    {
     "name": "stdout",
     "output_type": "stream",
     "text": [
      "0 Please\n",
      "21 boxed\n",
      "8 .\n",
      "2  this\n",
      "1  solve\n",
      "6  by\n",
      "36 :\n",
      "12  and\n",
      "3  math\n",
      "34 .\n",
      "\n",
      "\n",
      "24 .\n",
      "15  the\n",
      "9  Show\n",
      "19  in\n",
      "27  a\n",
      "4  problem\n",
      "10  your\n",
      "18  answer\n",
      "46  weighs\n",
      "38  weighs\n",
      "31  in\n",
      "35 Problem\n",
      "5  step\n",
      "30  answer\n",
      "32  the\n",
      "28  single\n",
      "25  Only\n",
      "16  final\n",
      "14  put\n",
      "44 .\n",
      "13  always\n",
      "17  number\n",
      "11  reasoning\n",
      "50  less\n",
      "59  What\n",
      "26  put\n",
      "29  number\n",
      "20  \\\n",
      "7  step\n",
      "22 {}\n",
      "49  pounds\n",
      "37  Grace\n",
      "57  weighs\n",
      "43  pounds\n",
      "23  format\n",
      "54  times\n",
      "51  than\n",
      "55  what\n",
      "45  Alex\n",
      "39  \n",
      "60  are\n",
      "33  box\n",
      "62  combined\n",
      "63  weights\n",
      "56  Grace\n",
      "61  their\n",
      "58 .\n",
      "47  \n",
      "65  pounds\n",
      "52  \n",
      "40 1\n",
      "41 2\n",
      "64  in\n",
      "42 5\n",
      "48 2\n",
      "53 4\n",
      "66 ?\n"
     ]
    }
   ],
   "source": [
    "print_most_attended(most_attended_pre, tokenizer, input_ids)"
   ]
  },
  {
   "cell_type": "code",
   "execution_count": 43,
   "metadata": {},
   "outputs": [
    {
     "name": "stdout",
     "output_type": "stream",
     "text": [
      "9  Show\n",
      "25  Only\n",
      "38  weighs\n",
      "46  weighs\n",
      "11  reasoning\n",
      "0 Please\n",
      "1  solve\n",
      "3  math\n",
      "14  put\n",
      "49  pounds\n",
      "43  pounds\n",
      "57  weighs\n",
      "28  single\n",
      "37  Grace\n",
      "26  put\n",
      "13  always\n",
      "16  final\n",
      "5  step\n",
      "51  than\n",
      "22 {}\n",
      "45  Alex\n",
      "55  what\n",
      "56  Grace\n",
      "34 .\n",
      "\n",
      "\n",
      "59  What\n",
      "7  step\n",
      "61  their\n",
      "23  format\n",
      "63  weights\n",
      "60  are\n",
      "65  pounds\n",
      "62  combined\n",
      "66 ?\n",
      "54  times\n",
      "50  less\n",
      "41 2\n",
      "42 5\n",
      "53 4\n",
      "40 1\n",
      "48 2\n",
      "33  box\n",
      "30  answer\n",
      "52  \n",
      "6  by\n",
      "20  \\\n",
      "2  this\n",
      "36 :\n",
      "47  \n",
      "10  your\n",
      "35 Problem\n",
      "18  answer\n",
      "39  \n",
      "64  in\n",
      "31  in\n",
      "29  number\n",
      "19  in\n",
      "17  number\n",
      "58 .\n",
      "4  problem\n",
      "44 .\n",
      "12  and\n",
      "32  the\n",
      "24 .\n",
      "27  a\n",
      "8 .\n",
      "15  the\n",
      "21 boxed\n"
     ]
    }
   ],
   "source": [
    "for i in most_attended:\n",
    "    print(i, token_id_to_char(input_ids[i], tokenizer))\n",
    "\n"
   ]
  },
  {
   "cell_type": "code",
   "execution_count": 25,
   "metadata": {},
   "outputs": [],
   "source": []
  },
  {
   "cell_type": "code",
   "execution_count": 22,
   "metadata": {},
   "outputs": [],
   "source": []
  },
  {
   "cell_type": "code",
   "execution_count": 35,
   "metadata": {},
   "outputs": [],
   "source": []
  },
  {
   "cell_type": "code",
   "execution_count": 36,
   "metadata": {},
   "outputs": [
    {
     "name": "stdout",
     "output_type": "stream",
     "text": [
      "Please solve this math problem step by step. Show your reasoning and always put the final number answer in \\boxed{} format. Only put a single number answer in the box.\n",
      "\n",
      "Problem: Grace weighs 125 pounds. Alex weighs 2 pounds less than 4 times what Grace weighs. What are their combined weights in pounds?\n"
     ]
    }
   ],
   "source": []
  },
  {
   "cell_type": "code",
   "execution_count": 40,
   "metadata": {},
   "outputs": [],
   "source": []
  },
  {
   "cell_type": "code",
   "execution_count": 53,
   "metadata": {},
   "outputs": [],
   "source": [
    "#! Figure out which words are most attended in rl\n"
   ]
  },
  {
   "cell_type": "code",
   "execution_count": 54,
   "metadata": {},
   "outputs": [
    {
     "name": "stdout",
     "output_type": "stream",
     "text": [
      "['Please', ' solve', ' this', ' math', ' problem', ' step', ' by', ' step', '.', ' Show', ' your', ' reasoning', ' and', ' always', ' put', ' the', ' final', ' number', ' answer', ' in', ' \\\\', 'boxed', '{}', ' format', '.', ' Only', ' put', ' a', ' single', ' number', ' answer', ' in', ' the', ' box', '.\\n\\n', 'Problem', ':', ' Grace', ' weighs', ' ', '1', '2', '5', ' pounds', '.', ' Alex', ' weighs', ' ', '2', ' pounds', ' less', ' than', ' ', '4', ' times', ' what', ' Grace', ' weighs', '.', ' What', ' are', ' their', ' combined', ' weights', ' in', ' pounds', '?']\n"
     ]
    }
   ],
   "source": [
    "print(words_in_list)"
   ]
  }
 ],
 "metadata": {
  "kernelspec": {
   "display_name": ".venv",
   "language": "python",
   "name": "python3"
  },
  "language_info": {
   "codemirror_mode": {
    "name": "ipython",
    "version": 3
   },
   "file_extension": ".py",
   "mimetype": "text/x-python",
   "name": "python",
   "nbconvert_exporter": "python",
   "pygments_lexer": "ipython3",
   "version": "3.12.10"
  }
 },
 "nbformat": 4,
 "nbformat_minor": 2
}
